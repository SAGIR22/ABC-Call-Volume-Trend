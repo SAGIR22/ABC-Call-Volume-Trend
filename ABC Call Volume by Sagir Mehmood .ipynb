{
 "cells": [
  {
   "cell_type": "markdown",
   "metadata": {},
   "source": [
    "# ABC Call Volume by Sagir Mehmood"
   ]
  },
  {
   "cell_type": "markdown",
   "metadata": {},
   "source": [
    "## Project Description:"
   ]
  },
  {
   "cell_type": "markdown",
   "metadata": {},
   "source": [
    "- This is a dataset of a Customer Experience (CX) Inbound calling team for 23 days of ABC Insurance company. Data includes Agent_Name, Agent_ID, Queue_Time [duration for which customer have to wait before they get connected to an agent], Time [time at which call was made by customer in a day], Time_Bucket [for easiness we have also provided you with the time bucket], Duration [duration for which a customer and executives are on call], call status (Abandon, answered, transferred)."
   ]
  },
  {
   "cell_type": "markdown",
   "metadata": {},
   "source": [
    "- A customer experience (CX) team is made up of experts who examine data and consumer input before sharing their findings with the rest of the company. The roles and responsibilities that these teams typically carry out include: Customer experience programmes (CX programmes), Digital customer experience, Design and processes, Internal communications, Voice of the customer (VoC), User experiences, Customer experience management, Journey mapping, Nurturing customer interactions, Customer success, Customer support, Handling Customer Data, and Learning about the Customer Journey."
   ]
  },
  {
   "cell_type": "markdown",
   "metadata": {},
   "source": [
    "## Objectives :"
   ]
  },
  {
   "attachments": {
    "image.png": {
     "image/png": "[encoded data removed]"
    }
   },
   "cell_type": "markdown",
   "metadata": {},
   "source": [
    "- ##### A. Calculate the average call time duration for all incoming calls received by agents (in each Time_Bucket).\n",
    "\n",
    "- ##### B. Show the total volume/ number of calls coming in via charts/ graphs [Number of calls v/s Time]. You can select time in a bucket form (i.e. 1-2, 2-3, …..)\n",
    "  \n",
    "- ##### C. As you can see current abandon rate is approximately 30%. Propose a manpower plan required during each time bucket [between 9am to 9pm] to reduce the abandon rate to 10%. (i.e. You have to calculate minimum number of agents required in each time bucket so that at least 90 calls should be answered out of 100.)\n",
    "\n",
    "- ##### D. Let’s say customers also call this ABC insurance company in night but didn’t get answer as there are no agents to answer, this creates a bad customer experience for this Insurance company. Suppose every 100 calls that customer made during 9 Am to 9 Pm, customer also made 30 calls in night between interval [9 Pm to 9 Am] and distribution of those 30 calls are as follows:\n",
    "\n",
    "![image.png](attachment:image.png)\n",
    "\n",
    "   #####    Now propose a manpower plan required during each time bucket in a day. Maximum Abandon rate assumption would be same 10%.\n"
   ]
  },
  {
   "cell_type": "markdown",
   "metadata": {},
   "source": [
    "## Insights & Result:"
   ]
  },
  {
   "cell_type": "code",
   "execution_count": 1,
   "metadata": {},
   "outputs": [],
   "source": [
    "# Supress Warnings\n",
    "import warnings\n",
    "warnings.filterwarnings('ignore')"
   ]
  },
  {
   "cell_type": "code",
   "execution_count": 2,
   "metadata": {},
   "outputs": [],
   "source": [
    "import numpy as np\n",
    "import pandas as pd\n",
    "import matplotlib.pyplot as plt\n",
    "import seaborn as sns"
   ]
  },
  {
   "cell_type": "code",
   "execution_count": 3,
   "metadata": {},
   "outputs": [],
   "source": [
    "# Adjust Jupyter view\n",
    "pd.set_option('display.max_rows', 500)\n",
    "pd.set_option('display.max_columns', 500)\n",
    "pd.set_option('display.width', 1000)\n",
    "pd.set_option('display.expand_frame_repr', False)"
   ]
  },
  {
   "cell_type": "code",
   "execution_count": 4,
   "metadata": {},
   "outputs": [],
   "source": [
    "# Importing data\n",
    "raw_data = pd.read_csv(\"Call_Volume_Trend_Analysis_Project.csv\")"
   ]
  },
  {
   "cell_type": "code",
   "execution_count": 5,
   "metadata": {},
   "outputs": [
    {
     "data": {
      "text/html": [
       "<div>\n",
       "<style scoped>\n",
       "    .dataframe tbody tr th:only-of-type {\n",
       "        vertical-align: middle;\n",
       "    }\n",
       "\n",
       "    .dataframe tbody tr th {\n",
       "        vertical-align: top;\n",
       "    }\n",
       "\n",
       "    .dataframe thead th {\n",
       "        text-align: right;\n",
       "    }\n",
       "</style>\n",
       "<table border=\"1\" class=\"dataframe\">\n",
       "  <thead>\n",
       "    <tr style=\"text-align: right;\">\n",
       "      <th></th>\n",
       "      <th>Agent_Name</th>\n",
       "      <th>Agent_ID</th>\n",
       "      <th>Customer_Phone_No</th>\n",
       "      <th>Queue_Time(Secs)</th>\n",
       "      <th>Date_&amp;_Time</th>\n",
       "      <th>Time</th>\n",
       "      <th>Time_Bucket</th>\n",
       "      <th>Duration(hh:mm:ss)</th>\n",
       "      <th>Call_Seconds (s)</th>\n",
       "      <th>Call_Status</th>\n",
       "      <th>Wrapped _By</th>\n",
       "      <th>Ringing</th>\n",
       "      <th>IVR _Duration</th>\n",
       "    </tr>\n",
       "  </thead>\n",
       "  <tbody>\n",
       "    <tr>\n",
       "      <th>0</th>\n",
       "      <td>Executives 42</td>\n",
       "      <td>1000042.0</td>\n",
       "      <td>98502XXXXX</td>\n",
       "      <td>2</td>\n",
       "      <td>01-01-2022</td>\n",
       "      <td>9</td>\n",
       "      <td>9_10</td>\n",
       "      <td>0.01.36</td>\n",
       "      <td>96</td>\n",
       "      <td>answered</td>\n",
       "      <td>Agent</td>\n",
       "      <td>YES</td>\n",
       "      <td>0.00.16</td>\n",
       "    </tr>\n",
       "    <tr>\n",
       "      <th>1</th>\n",
       "      <td>Executives 4</td>\n",
       "      <td>1000004.0</td>\n",
       "      <td>80595XXXXX</td>\n",
       "      <td>0</td>\n",
       "      <td>01-01-2022</td>\n",
       "      <td>9</td>\n",
       "      <td>9_10</td>\n",
       "      <td>0.02.20</td>\n",
       "      <td>140</td>\n",
       "      <td>answered</td>\n",
       "      <td>Agent</td>\n",
       "      <td>YES</td>\n",
       "      <td>0.00.26</td>\n",
       "    </tr>\n",
       "    <tr>\n",
       "      <th>2</th>\n",
       "      <td>Executives 65</td>\n",
       "      <td>1000065.0</td>\n",
       "      <td>70202XXXXX</td>\n",
       "      <td>0</td>\n",
       "      <td>01-01-2022</td>\n",
       "      <td>9</td>\n",
       "      <td>9_10</td>\n",
       "      <td>0.01.25</td>\n",
       "      <td>85</td>\n",
       "      <td>answered</td>\n",
       "      <td>AutoWrapped</td>\n",
       "      <td>YES</td>\n",
       "      <td>0.00.16</td>\n",
       "    </tr>\n",
       "    <tr>\n",
       "      <th>3</th>\n",
       "      <td>Executives 55</td>\n",
       "      <td>1000055.0</td>\n",
       "      <td>96104XXXXX</td>\n",
       "      <td>1</td>\n",
       "      <td>01-01-2022</td>\n",
       "      <td>9</td>\n",
       "      <td>9_10</td>\n",
       "      <td>0.01.31</td>\n",
       "      <td>91</td>\n",
       "      <td>answered</td>\n",
       "      <td>Agent</td>\n",
       "      <td>YES</td>\n",
       "      <td>0.00.25</td>\n",
       "    </tr>\n",
       "    <tr>\n",
       "      <th>4</th>\n",
       "      <td>Executives 21</td>\n",
       "      <td>1000021.0</td>\n",
       "      <td>82001XXXXX</td>\n",
       "      <td>0</td>\n",
       "      <td>01-01-2022</td>\n",
       "      <td>9</td>\n",
       "      <td>9_10</td>\n",
       "      <td>0.02.45</td>\n",
       "      <td>165</td>\n",
       "      <td>answered</td>\n",
       "      <td>Agent</td>\n",
       "      <td>YES</td>\n",
       "      <td>0.00.23</td>\n",
       "    </tr>\n",
       "    <tr>\n",
       "      <th>5</th>\n",
       "      <td>NaN</td>\n",
       "      <td>NaN</td>\n",
       "      <td>96424XXXXX</td>\n",
       "      <td>13</td>\n",
       "      <td>01-01-2022</td>\n",
       "      <td>9</td>\n",
       "      <td>9_10</td>\n",
       "      <td>0.00.00</td>\n",
       "      <td>0</td>\n",
       "      <td>abandon</td>\n",
       "      <td>NaN</td>\n",
       "      <td>YES</td>\n",
       "      <td>0.00.16</td>\n",
       "    </tr>\n",
       "    <tr>\n",
       "      <th>6</th>\n",
       "      <td>Executives 55</td>\n",
       "      <td>1000055.0</td>\n",
       "      <td>96737XXXXX</td>\n",
       "      <td>79</td>\n",
       "      <td>01-01-2022</td>\n",
       "      <td>9</td>\n",
       "      <td>9_10</td>\n",
       "      <td>0.01.25</td>\n",
       "      <td>85</td>\n",
       "      <td>answered</td>\n",
       "      <td>AutoWrapped</td>\n",
       "      <td>YES</td>\n",
       "      <td>0.00.13</td>\n",
       "    </tr>\n",
       "    <tr>\n",
       "      <th>7</th>\n",
       "      <td>NaN</td>\n",
       "      <td>NaN</td>\n",
       "      <td>96392XXXXX</td>\n",
       "      <td>60</td>\n",
       "      <td>01-01-2022</td>\n",
       "      <td>9</td>\n",
       "      <td>9_10</td>\n",
       "      <td>0.00.00</td>\n",
       "      <td>0</td>\n",
       "      <td>abandon</td>\n",
       "      <td>NaN</td>\n",
       "      <td>YES</td>\n",
       "      <td>0.00.17</td>\n",
       "    </tr>\n",
       "    <tr>\n",
       "      <th>8</th>\n",
       "      <td>Executives 42</td>\n",
       "      <td>1000042.0</td>\n",
       "      <td>90820XXXXX</td>\n",
       "      <td>52</td>\n",
       "      <td>01-01-2022</td>\n",
       "      <td>9</td>\n",
       "      <td>9_10</td>\n",
       "      <td>0.01.05</td>\n",
       "      <td>65</td>\n",
       "      <td>answered</td>\n",
       "      <td>Agent</td>\n",
       "      <td>YES</td>\n",
       "      <td>0.00.20</td>\n",
       "    </tr>\n",
       "    <tr>\n",
       "      <th>9</th>\n",
       "      <td>Executives 65</td>\n",
       "      <td>1000065.0</td>\n",
       "      <td>97410XXXXX</td>\n",
       "      <td>62</td>\n",
       "      <td>01-01-2022</td>\n",
       "      <td>9</td>\n",
       "      <td>9_10</td>\n",
       "      <td>0.03.00</td>\n",
       "      <td>180</td>\n",
       "      <td>answered</td>\n",
       "      <td>AutoWrapped</td>\n",
       "      <td>YES</td>\n",
       "      <td>0.00.44</td>\n",
       "    </tr>\n",
       "  </tbody>\n",
       "</table>\n",
       "</div>"
      ],
      "text/plain": [
       "      Agent_Name   Agent_ID Customer_Phone_No  Queue_Time(Secs) Date_&_Time  Time Time_Bucket Duration(hh:mm:ss)  Call_Seconds (s) Call_Status  Wrapped _By Ringing IVR _Duration\n",
       "0  Executives 42  1000042.0        98502XXXXX                 2  01-01-2022     9        9_10            0.01.36                96    answered        Agent     YES       0.00.16\n",
       "1   Executives 4  1000004.0        80595XXXXX                 0  01-01-2022     9        9_10            0.02.20               140    answered        Agent     YES       0.00.26\n",
       "2  Executives 65  1000065.0        70202XXXXX                 0  01-01-2022     9        9_10            0.01.25                85    answered  AutoWrapped     YES       0.00.16\n",
       "3  Executives 55  1000055.0        96104XXXXX                 1  01-01-2022     9        9_10            0.01.31                91    answered        Agent     YES       0.00.25\n",
       "4  Executives 21  1000021.0        82001XXXXX                 0  01-01-2022     9        9_10            0.02.45               165    answered        Agent     YES       0.00.23\n",
       "5            NaN        NaN        96424XXXXX                13  01-01-2022     9        9_10            0.00.00                 0     abandon          NaN     YES       0.00.16\n",
       "6  Executives 55  1000055.0        96737XXXXX                79  01-01-2022     9        9_10            0.01.25                85    answered  AutoWrapped     YES       0.00.13\n",
       "7            NaN        NaN        96392XXXXX                60  01-01-2022     9        9_10            0.00.00                 0     abandon          NaN     YES       0.00.17\n",
       "8  Executives 42  1000042.0        90820XXXXX                52  01-01-2022     9        9_10            0.01.05                65    answered        Agent     YES       0.00.20\n",
       "9  Executives 65  1000065.0        97410XXXXX                62  01-01-2022     9        9_10            0.03.00               180    answered  AutoWrapped     YES       0.00.44"
      ]
     },
     "execution_count": 5,
     "metadata": {},
     "output_type": "execute_result"
    }
   ],
   "source": [
    "raw_data.head(10)"
   ]
  },
  {
   "cell_type": "code",
   "execution_count": 6,
   "metadata": {},
   "outputs": [
    {
     "data": {
      "text/plain": [
       "(117988, 13)"
      ]
     },
     "execution_count": 6,
     "metadata": {},
     "output_type": "execute_result"
    }
   ],
   "source": [
    "raw_data.shape"
   ]
  },
  {
   "cell_type": "code",
   "execution_count": 7,
   "metadata": {},
   "outputs": [],
   "source": [
    "row,column=raw_data.shape"
   ]
  },
  {
   "cell_type": "code",
   "execution_count": 8,
   "metadata": {},
   "outputs": [
    {
     "data": {
      "text/plain": [
       "117988"
      ]
     },
     "execution_count": 8,
     "metadata": {},
     "output_type": "execute_result"
    }
   ],
   "source": [
    "row"
   ]
  },
  {
   "cell_type": "code",
   "execution_count": 9,
   "metadata": {},
   "outputs": [
    {
     "data": {
      "text/plain": [
       "13"
      ]
     },
     "execution_count": 9,
     "metadata": {},
     "output_type": "execute_result"
    }
   ],
   "source": [
    "column"
   ]
  },
  {
   "cell_type": "code",
   "execution_count": 10,
   "metadata": {},
   "outputs": [
    {
     "data": {
      "text/plain": [
       "Index(['Agent_Name', 'Agent_ID', 'Customer_Phone_No', 'Queue_Time(Secs)', 'Date_&_Time', 'Time', 'Time_Bucket', 'Duration(hh:mm:ss)', 'Call_Seconds (s)', 'Call_Status', 'Wrapped _By', 'Ringing', 'IVR _Duration'], dtype='object')"
      ]
     },
     "execution_count": 10,
     "metadata": {},
     "output_type": "execute_result"
    }
   ],
   "source": [
    "raw_data.columns"
   ]
  },
  {
   "cell_type": "code",
   "execution_count": 11,
   "metadata": {},
   "outputs": [],
   "source": [
    "data=raw_data.copy()"
   ]
  },
  {
   "cell_type": "markdown",
   "metadata": {},
   "source": [
    "# `EDA`"
   ]
  },
  {
   "cell_type": "markdown",
   "metadata": {},
   "source": [
    "# A. Calculate the average call time duration for all incoming calls received by agents (in each Time_Bucket)"
   ]
  },
  {
   "cell_type": "code",
   "execution_count": 12,
   "metadata": {},
   "outputs": [
    {
     "data": {
      "text/plain": [
       "array(['answered', 'abandon', 'transfer'], dtype=object)"
      ]
     },
     "execution_count": 12,
     "metadata": {},
     "output_type": "execute_result"
    }
   ],
   "source": [
    "data['Call_Status'].unique()"
   ]
  },
  {
   "cell_type": "code",
   "execution_count": 13,
   "metadata": {},
   "outputs": [
    {
     "data": {
      "text/plain": [
       "198.6227744627177"
      ]
     },
     "execution_count": 13,
     "metadata": {},
     "output_type": "execute_result"
    }
   ],
   "source": [
    "data[data['Call_Status']=='answered']['Call_Seconds (s)'].mean() # Average duration of the calls, which are answered."
   ]
  },
  {
   "cell_type": "code",
   "execution_count": 14,
   "metadata": {},
   "outputs": [
    {
     "data": {
      "text/plain": [
       "76.14651368049427"
      ]
     },
     "execution_count": 14,
     "metadata": {},
     "output_type": "execute_result"
    }
   ],
   "source": [
    "data[data['Call_Status']=='transfer']['Call_Seconds (s)'].mean() # Average duration of the calls, which are transferred."
   ]
  },
  {
   "cell_type": "code",
   "execution_count": 15,
   "metadata": {},
   "outputs": [
    {
     "data": {
      "text/plain": [
       "0.0"
      ]
     },
     "execution_count": 15,
     "metadata": {},
     "output_type": "execute_result"
    }
   ],
   "source": [
    "data[data['Call_Status']=='abandon']['Call_Seconds (s)'].mean() # Average duration of the calls, which are abandoned."
   ]
  },
  {
   "cell_type": "code",
   "execution_count": 16,
   "metadata": {},
   "outputs": [
    {
     "data": {
      "text/plain": [
       "196.96260094514565"
      ]
     },
     "execution_count": 16,
     "metadata": {},
     "output_type": "execute_result"
    }
   ],
   "source": [
    "# Average duration of the calls, which are not abandoned.\n",
    "data[(data['Call_Status']=='answered') | (data['Call_Status']=='transfer')]['Call_Seconds (s)'].mean() "
   ]
  },
  {
   "cell_type": "code",
   "execution_count": 17,
   "metadata": {},
   "outputs": [],
   "source": [
    "ans = data[data['Call_Status']!='abandon'] # Extracting the data for calls, which are not abandoned."
   ]
  },
  {
   "cell_type": "code",
   "execution_count": 18,
   "metadata": {},
   "outputs": [
    {
     "data": {
      "text/html": [
       "<div>\n",
       "<style scoped>\n",
       "    .dataframe tbody tr th:only-of-type {\n",
       "        vertical-align: middle;\n",
       "    }\n",
       "\n",
       "    .dataframe tbody tr th {\n",
       "        vertical-align: top;\n",
       "    }\n",
       "\n",
       "    .dataframe thead th {\n",
       "        text-align: right;\n",
       "    }\n",
       "</style>\n",
       "<table border=\"1\" class=\"dataframe\">\n",
       "  <thead>\n",
       "    <tr style=\"text-align: right;\">\n",
       "      <th></th>\n",
       "      <th>Call_Seconds (s)</th>\n",
       "    </tr>\n",
       "    <tr>\n",
       "      <th>Time_Bucket</th>\n",
       "      <th></th>\n",
       "    </tr>\n",
       "  </thead>\n",
       "  <tbody>\n",
       "    <tr>\n",
       "      <th>9_10</th>\n",
       "      <td>198.74</td>\n",
       "    </tr>\n",
       "    <tr>\n",
       "      <th>10_11</th>\n",
       "      <td>202.59</td>\n",
       "    </tr>\n",
       "    <tr>\n",
       "      <th>11_12</th>\n",
       "      <td>198.66</td>\n",
       "    </tr>\n",
       "    <tr>\n",
       "      <th>12_13</th>\n",
       "      <td>191.15</td>\n",
       "    </tr>\n",
       "    <tr>\n",
       "      <th>13_14</th>\n",
       "      <td>193.30</td>\n",
       "    </tr>\n",
       "    <tr>\n",
       "      <th>14_15</th>\n",
       "      <td>191.95</td>\n",
       "    </tr>\n",
       "    <tr>\n",
       "      <th>15_16</th>\n",
       "      <td>195.86</td>\n",
       "    </tr>\n",
       "    <tr>\n",
       "      <th>16_17</th>\n",
       "      <td>198.29</td>\n",
       "    </tr>\n",
       "    <tr>\n",
       "      <th>17_18</th>\n",
       "      <td>197.88</td>\n",
       "    </tr>\n",
       "    <tr>\n",
       "      <th>18_19</th>\n",
       "      <td>200.12</td>\n",
       "    </tr>\n",
       "    <tr>\n",
       "      <th>19_20</th>\n",
       "      <td>202.48</td>\n",
       "    </tr>\n",
       "    <tr>\n",
       "      <th>20_21</th>\n",
       "      <td>202.52</td>\n",
       "    </tr>\n",
       "  </tbody>\n",
       "</table>\n",
       "</div>"
      ],
      "text/plain": [
       "             Call_Seconds (s)\n",
       "Time_Bucket                  \n",
       "9_10                   198.74\n",
       "10_11                  202.59\n",
       "11_12                  198.66\n",
       "12_13                  191.15\n",
       "13_14                  193.30\n",
       "14_15                  191.95\n",
       "15_16                  195.86\n",
       "16_17                  198.29\n",
       "17_18                  197.88\n",
       "18_19                  200.12\n",
       "19_20                  202.48\n",
       "20_21                  202.52"
      ]
     },
     "execution_count": 18,
     "metadata": {},
     "output_type": "execute_result"
    }
   ],
   "source": [
    "ans_tnf = data[data['Call_Status']!='abandon']  # Extracting the data for calls, which are not abandoned.\n",
    "\n",
    "#The average call time duration for all incoming calls received by agents (in each Time_Bucket)\n",
    "dd = ans_tnf.pivot_table(values='Call_Seconds (s)',index='Time_Bucket',aggfunc='mean')\n",
    "dd = dd.sort_values(by='Time_Bucket',ascending=True).round(2)\n",
    "dd = dd.iloc[np.arange(-1, len(dd)-1)]\n",
    "dd "
   ]
  },
  {
   "cell_type": "code",
   "execution_count": 19,
   "metadata": {},
   "outputs": [
    {
     "data": {
      "image/png": "[encoded data removed]",
      "text/plain": [
       "<Figure size 1008x288 with 1 Axes>"
      ]
     },
     "metadata": {
      "needs_background": "light"
     },
     "output_type": "display_data"
    }
   ],
   "source": [
    "plt.figure(figsize=(14,4))\n",
    "ax = plt.subplot(1,1,1)\n",
    "x = dd.index\n",
    "y =dd['Call_Seconds (s)']\n",
    "plt.ylabel('Duration in Seconds ')\n",
    "plt.xlabel('Time Buckets')\n",
    "plt.bar(x,y)\n",
    "for p in ax.patches:\n",
    "    height = p.get_height()\n",
    "    ax.text(p.get_x()+p.get_width()/2.,\n",
    "            height + 3,\n",
    "            height,\n",
    "            ha=\"center\")"
   ]
  },
  {
   "cell_type": "markdown",
   "metadata": {},
   "source": [
    "# B. Show the total volume/ number of calls coming in via charts/ graphs [Number of calls v/s Time]. You can select time in a bucket form (i.e. 1-2, 2-3, …..)"
   ]
  },
  {
   "cell_type": "code",
   "execution_count": 20,
   "metadata": {},
   "outputs": [
    {
     "data": {
      "text/html": [
       "<div>\n",
       "<style scoped>\n",
       "    .dataframe tbody tr th:only-of-type {\n",
       "        vertical-align: middle;\n",
       "    }\n",
       "\n",
       "    .dataframe tbody tr th {\n",
       "        vertical-align: top;\n",
       "    }\n",
       "\n",
       "    .dataframe thead th {\n",
       "        text-align: right;\n",
       "    }\n",
       "</style>\n",
       "<table border=\"1\" class=\"dataframe\">\n",
       "  <thead>\n",
       "    <tr style=\"text-align: right;\">\n",
       "      <th></th>\n",
       "      <th>Call count</th>\n",
       "      <th>Call count %</th>\n",
       "    </tr>\n",
       "    <tr>\n",
       "      <th>Time_Bucket</th>\n",
       "      <th></th>\n",
       "      <th></th>\n",
       "    </tr>\n",
       "  </thead>\n",
       "  <tbody>\n",
       "    <tr>\n",
       "      <th>9_10</th>\n",
       "      <td>9588</td>\n",
       "      <td>8.13</td>\n",
       "    </tr>\n",
       "    <tr>\n",
       "      <th>10_11</th>\n",
       "      <td>13313</td>\n",
       "      <td>11.28</td>\n",
       "    </tr>\n",
       "    <tr>\n",
       "      <th>11_12</th>\n",
       "      <td>14626</td>\n",
       "      <td>12.40</td>\n",
       "    </tr>\n",
       "    <tr>\n",
       "      <th>12_13</th>\n",
       "      <td>12652</td>\n",
       "      <td>10.72</td>\n",
       "    </tr>\n",
       "    <tr>\n",
       "      <th>13_14</th>\n",
       "      <td>11561</td>\n",
       "      <td>9.80</td>\n",
       "    </tr>\n",
       "    <tr>\n",
       "      <th>14_15</th>\n",
       "      <td>10561</td>\n",
       "      <td>8.95</td>\n",
       "    </tr>\n",
       "    <tr>\n",
       "      <th>15_16</th>\n",
       "      <td>9159</td>\n",
       "      <td>7.76</td>\n",
       "    </tr>\n",
       "    <tr>\n",
       "      <th>16_17</th>\n",
       "      <td>8788</td>\n",
       "      <td>7.45</td>\n",
       "    </tr>\n",
       "    <tr>\n",
       "      <th>17_18</th>\n",
       "      <td>8534</td>\n",
       "      <td>7.23</td>\n",
       "    </tr>\n",
       "    <tr>\n",
       "      <th>18_19</th>\n",
       "      <td>7238</td>\n",
       "      <td>6.13</td>\n",
       "    </tr>\n",
       "    <tr>\n",
       "      <th>19_20</th>\n",
       "      <td>6463</td>\n",
       "      <td>5.48</td>\n",
       "    </tr>\n",
       "    <tr>\n",
       "      <th>20_21</th>\n",
       "      <td>5505</td>\n",
       "      <td>4.67</td>\n",
       "    </tr>\n",
       "  </tbody>\n",
       "</table>\n",
       "</div>"
      ],
      "text/plain": [
       "             Call count  Call count %\n",
       "Time_Bucket                          \n",
       "9_10               9588          8.13\n",
       "10_11             13313         11.28\n",
       "11_12             14626         12.40\n",
       "12_13             12652         10.72\n",
       "13_14             11561          9.80\n",
       "14_15             10561          8.95\n",
       "15_16              9159          7.76\n",
       "16_17              8788          7.45\n",
       "17_18              8534          7.23\n",
       "18_19              7238          6.13\n",
       "19_20              6463          5.48\n",
       "20_21              5505          4.67"
      ]
     },
     "execution_count": 20,
     "metadata": {},
     "output_type": "execute_result"
    }
   ],
   "source": [
    "call_count_per = data.pivot_table(index='Time_Bucket', values='Call_Status',aggfunc='count')\n",
    "call_count_per.rename(columns = {'Call_Status':'Call count'}, inplace = True)\n",
    "call_count_per = call_count_per.sort_values(by = 'Time_Bucket')\n",
    "call_count_per = call_count_per.iloc[np.arange(-1, len(call_count_per)-1)]\n",
    "call_count_per['Call count %'] = round(100*call_count_per/call_count_per['Call count'].sum(),2)\n",
    "call_count_per"
   ]
  },
  {
   "cell_type": "code",
   "execution_count": 21,
   "metadata": {},
   "outputs": [
    {
     "data": {
      "image/png": "[encoded data removed]",
      "text/plain": [
       "<Figure size 1008x288 with 1 Axes>"
      ]
     },
     "metadata": {
      "needs_background": "light"
     },
     "output_type": "display_data"
    }
   ],
   "source": [
    "plt.figure(figsize=(14,4))\n",
    "ax=sns.countplot(data['Time_Bucket'])\n",
    "plt.ylabel('Volume')\n",
    "plt.xlabel('Time Buckets')\n",
    "for p in ax.patches:\n",
    "    height = p.get_height()\n",
    "    ax.text(p.get_x()+p.get_width()/2.,\n",
    "            height + 3,\n",
    "            '{:1.2f}%\\n'.format(100 * height/len(data['Time_Bucket'])),\n",
    "            ha=\"center\")"
   ]
  },
  {
   "cell_type": "markdown",
   "metadata": {},
   "source": [
    "# C. As you can see current abandon rate is approximately 30%. Propose a manpower plan required during each time bucket [between 9am to 9pm] to reduce the abandon rate to 10%. (i.e. You have to calculate minimum number of agents required in each time bucket so that at least 90 calls should be answered out of 100.) "
   ]
  },
  {
   "cell_type": "markdown",
   "metadata": {},
   "source": [
    "### Assumption:\n",
    "An agent work for 6 days a week; On an average total unplanned leaves per agent is 4 days a month; An agent total working hrs is 9 Hrs out of which 1.5 Hrs goes into lunch and snacks in the office. On average an agent occupied for 60% of his total actual working Hrs (i.e 60% of 7.5 Hrs) on call with customers/ users. Total days in a month is 30 days."
   ]
  },
  {
   "cell_type": "markdown",
   "metadata": {},
   "source": [
    "From the above assumption we can say that:\n",
    "\n",
    "- An agent work for 6 days a week, and on an average total unplanned leaves per agent is 4 days a month, means (30 - 4 - 4) = 22 days of work.\n",
    "- An agent total working hrs is 9 Hrs out of which 1.5 Hrs goes into lunch and snacks in the office, On average an agent occupied for 60% of his total actual working Hrs [i.e 60% of (9 - 1.5) = 7.5 Hrs] on call with customers/ users, means 7.5 * 0.6 = 4.5 hours.\n"
   ]
  },
  {
   "cell_type": "markdown",
   "metadata": {},
   "source": [
    "### Total number of employees "
   ]
  },
  {
   "cell_type": "code",
   "execution_count": 22,
   "metadata": {},
   "outputs": [
    {
     "name": "stdout",
     "output_type": "stream",
     "text": [
      "Total number of agents: 65\n"
     ]
    }
   ],
   "source": [
    "print('Total number of agents:',data['Agent_ID'].nunique())"
   ]
  },
  {
   "cell_type": "code",
   "execution_count": 23,
   "metadata": {},
   "outputs": [
    {
     "name": "stdout",
     "output_type": "stream",
     "text": [
      "Per day agent attendance:  48\n"
     ]
    }
   ],
   "source": [
    "working = 65*22 # 65 number of agents * 30 days of work in a month\n",
    "per_day_agent = (working)/30\n",
    "print(\"Per day agent attendance: \",round(per_day_agent))"
   ]
  },
  {
   "cell_type": "markdown",
   "metadata": {},
   "source": [
    "- There are total 65 employees working in the company.\n",
    "- From the above assumptions, we get to know that an agent comes to office 22 days per month, that means (22/30)*100 ≈  73.5% attendance per day.\n",
    "- Nearly 65 * 0.735 ≈ 48 agents come to office per day."
   ]
  },
  {
   "cell_type": "code",
   "execution_count": 24,
   "metadata": {},
   "outputs": [
    {
     "data": {
      "text/plain": [
       "array(['answered', 'abandon', 'transfer'], dtype=object)"
      ]
     },
     "execution_count": 24,
     "metadata": {},
     "output_type": "execute_result"
    }
   ],
   "source": [
    "data['Call_Status'].unique()"
   ]
  },
  {
   "cell_type": "code",
   "execution_count": 25,
   "metadata": {
    "scrolled": true
   },
   "outputs": [
    {
     "name": "stdout",
     "output_type": "stream",
     "text": [
      "Total number of calls:  117988\n",
      "Total number of answered and transferred calls:  83585\n",
      "Total number of abandoned  calls:  34403\n",
      "\n",
      "Average number of calls per day:  5130\n",
      "Average number of answered and transferred calls per day:  3634\n",
      "Average number of abandoned calls per day:  1496\n",
      "The target number of calls that need to attend from 9 AM to 9 PM per day:  4617.0\n"
     ]
    }
   ],
   "source": [
    "ans_tnf = data[(data['Call_Status']=='answered') | (data['Call_Status']=='transfer')] # Not abandoned calls\n",
    "abn = data[(data['Call_Status']=='abandon')] # Abandoned calls\n",
    "\n",
    "print('Total number of calls: ',len(data)) # Total number of calls in the dataset\n",
    "print('Total number of answered and transferred calls: ',len(ans_tnf)) # Number of not abandoned calls in the dataset\n",
    "print('Total number of abandoned  calls: ',len(abn)) # Number of abandoned calls in the dataset\n",
    "\n",
    "print('')\n",
    "\n",
    "print('Average number of calls per day: ',round(len(data)/23)) # Total calls / number of days (23)\n",
    "# Number of not abandoned calls in the dataset / 23\n",
    "print('Average number of answered and transferred calls per day: ',round(len(ans_tnf)/23)) \n",
    "# Number of abandoned calls in the dataset / 23\n",
    "print('Average number of abandoned calls per day: ',round(len(abn)/23))\n",
    "#90% of per-day incoming calls\n",
    "print('The target number of calls that need to attend from 9 AM to 9 PM per day: ',round(len(data)/23)*.9)"
   ]
  },
  {
   "cell_type": "markdown",
   "metadata": {},
   "source": [
    "#### <u>Explanation:"
   ]
  },
  {
   "cell_type": "markdown",
   "metadata": {},
   "source": [
    "- \tTotal number of calls:  117988\n",
    "- \tTotal number of answered and transferred calls:  83585\n",
    "-\tTotal number of abandoned  calls:  34403\n",
    "-\tThe average number of calls per day = Total number of calls / 23 = 117988/23 = 5130\n",
    "-\tThe average number of answered and transferred calls per day = Total number of answered and transferred calls / 23 = 83585/23 = 3634\n",
    "-\tThe average number of abandoned  calls per day = Total number of abandoned  calls/23 =  34403/23 = 1496\n",
    "-\tThe target number of calls that need to attend from 9 AM to 9 PM per day = 90% of  the average   number of calls per day = 5130 * 0.90 = 4617\n"
   ]
  },
  {
   "cell_type": "code",
   "execution_count": 26,
   "metadata": {},
   "outputs": [
    {
     "name": "stdout",
     "output_type": "stream",
     "text": [
      "Target Abandon rate:  10.0 %\n"
     ]
    }
   ],
   "source": [
    "print('Target Abandon rate: ',round(100*(5130-4617)/5130,2),'%')"
   ]
  },
  {
   "cell_type": "code",
   "execution_count": 27,
   "metadata": {},
   "outputs": [
    {
     "name": "stdout",
     "output_type": "stream",
     "text": [
      "3634 calls are answered by 48 agents,\n",
      "Then, 4617 calls can be answered by( 61 + 1 ) agents.\n"
     ]
    }
   ],
   "source": [
    "print('3634 calls are answered by 48 agents,\\nThen, 4617 calls can be answered by(', round((48/3634)*4617),'+ 1 ) agents.')"
   ]
  },
  {
   "cell_type": "markdown",
   "metadata": {},
   "source": [
    "##### Note:\n",
    "“+ 1” is given, because the answer would give a fraction value, the number of agents can't be a    fraction, that’s why first I rounded the answer, then added 1.\n",
    "\n"
   ]
  },
  {
   "cell_type": "code",
   "execution_count": 28,
   "metadata": {},
   "outputs": [
    {
     "data": {
      "text/html": [
       "<div>\n",
       "<style scoped>\n",
       "    .dataframe tbody tr th:only-of-type {\n",
       "        vertical-align: middle;\n",
       "    }\n",
       "\n",
       "    .dataframe tbody tr th {\n",
       "        vertical-align: top;\n",
       "    }\n",
       "\n",
       "    .dataframe thead th {\n",
       "        text-align: right;\n",
       "    }\n",
       "</style>\n",
       "<table border=\"1\" class=\"dataframe\">\n",
       "  <thead>\n",
       "    <tr style=\"text-align: right;\">\n",
       "      <th></th>\n",
       "      <th>Call count</th>\n",
       "      <th>Call count %</th>\n",
       "      <th>Agent Required</th>\n",
       "    </tr>\n",
       "    <tr>\n",
       "      <th>Time_Bucket</th>\n",
       "      <th></th>\n",
       "      <th></th>\n",
       "      <th></th>\n",
       "    </tr>\n",
       "  </thead>\n",
       "  <tbody>\n",
       "    <tr>\n",
       "      <th>9_10</th>\n",
       "      <td>9588</td>\n",
       "      <td>8.13</td>\n",
       "      <td>5.0</td>\n",
       "    </tr>\n",
       "    <tr>\n",
       "      <th>10_11</th>\n",
       "      <td>13313</td>\n",
       "      <td>11.28</td>\n",
       "      <td>7.0</td>\n",
       "    </tr>\n",
       "    <tr>\n",
       "      <th>11_12</th>\n",
       "      <td>14626</td>\n",
       "      <td>12.40</td>\n",
       "      <td>8.0</td>\n",
       "    </tr>\n",
       "    <tr>\n",
       "      <th>12_13</th>\n",
       "      <td>12652</td>\n",
       "      <td>10.72</td>\n",
       "      <td>7.0</td>\n",
       "    </tr>\n",
       "    <tr>\n",
       "      <th>13_14</th>\n",
       "      <td>11561</td>\n",
       "      <td>9.80</td>\n",
       "      <td>6.0</td>\n",
       "    </tr>\n",
       "    <tr>\n",
       "      <th>14_15</th>\n",
       "      <td>10561</td>\n",
       "      <td>8.95</td>\n",
       "      <td>5.0</td>\n",
       "    </tr>\n",
       "    <tr>\n",
       "      <th>15_16</th>\n",
       "      <td>9159</td>\n",
       "      <td>7.76</td>\n",
       "      <td>5.0</td>\n",
       "    </tr>\n",
       "    <tr>\n",
       "      <th>16_17</th>\n",
       "      <td>8788</td>\n",
       "      <td>7.45</td>\n",
       "      <td>5.0</td>\n",
       "    </tr>\n",
       "    <tr>\n",
       "      <th>17_18</th>\n",
       "      <td>8534</td>\n",
       "      <td>7.23</td>\n",
       "      <td>4.0</td>\n",
       "    </tr>\n",
       "    <tr>\n",
       "      <th>18_19</th>\n",
       "      <td>7238</td>\n",
       "      <td>6.13</td>\n",
       "      <td>4.0</td>\n",
       "    </tr>\n",
       "    <tr>\n",
       "      <th>19_20</th>\n",
       "      <td>6463</td>\n",
       "      <td>5.48</td>\n",
       "      <td>3.0</td>\n",
       "    </tr>\n",
       "    <tr>\n",
       "      <th>20_21</th>\n",
       "      <td>5505</td>\n",
       "      <td>4.67</td>\n",
       "      <td>3.0</td>\n",
       "    </tr>\n",
       "  </tbody>\n",
       "</table>\n",
       "</div>"
      ],
      "text/plain": [
       "             Call count  Call count %  Agent Required\n",
       "Time_Bucket                                          \n",
       "9_10               9588          8.13             5.0\n",
       "10_11             13313         11.28             7.0\n",
       "11_12             14626         12.40             8.0\n",
       "12_13             12652         10.72             7.0\n",
       "13_14             11561          9.80             6.0\n",
       "14_15             10561          8.95             5.0\n",
       "15_16              9159          7.76             5.0\n",
       "16_17              8788          7.45             5.0\n",
       "17_18              8534          7.23             4.0\n",
       "18_19              7238          6.13             4.0\n",
       "19_20              6463          5.48             3.0\n",
       "20_21              5505          4.67             3.0"
      ]
     },
     "execution_count": 28,
     "metadata": {},
     "output_type": "execute_result"
    }
   ],
   "source": [
    "call_count_per['Agent Required'] = round((call_count_per['Call count %']*61)/100)\n",
    "call_count_per"
   ]
  },
  {
   "cell_type": "code",
   "execution_count": 29,
   "metadata": {
    "scrolled": true
   },
   "outputs": [
    {
     "data": {
      "text/plain": [
       "62.0"
      ]
     },
     "execution_count": 29,
     "metadata": {},
     "output_type": "execute_result"
    }
   ],
   "source": [
    "call_count_per['Agent Required'].sum()"
   ]
  },
  {
   "cell_type": "markdown",
   "metadata": {},
   "source": [
    "#### Extra:"
   ]
  },
  {
   "cell_type": "code",
   "execution_count": 30,
   "metadata": {},
   "outputs": [
    {
     "data": {
      "text/plain": [
       "84.35374149659864"
      ]
     },
     "execution_count": 30,
     "metadata": {},
     "output_type": "execute_result"
    }
   ],
   "source": [
    "(62/73.5)*100"
   ]
  },
  {
   "cell_type": "code",
   "execution_count": 31,
   "metadata": {},
   "outputs": [
    {
     "data": {
      "text/plain": [
       "85"
      ]
     },
     "execution_count": 31,
     "metadata": {},
     "output_type": "execute_result"
    }
   ],
   "source": [
    "round((62/73.5)*100)+1"
   ]
  },
  {
   "cell_type": "code",
   "execution_count": 32,
   "metadata": {},
   "outputs": [
    {
     "data": {
      "text/plain": [
       "20"
      ]
     },
     "execution_count": 32,
     "metadata": {},
     "output_type": "execute_result"
    }
   ],
   "source": [
    "85-65"
   ]
  },
  {
   "attachments": {
    "image.png": {
     "image/png": "[encoded data removed]"
    }
   },
   "cell_type": "markdown",
   "metadata": {},
   "source": [
    "## D. Let’s say customers also call this ABC insurance company in night but didn’t get answer as there are no agents to answer, this creates a bad customer experience for this Insurance company. Suppose every 100 calls that customer made during 9 Am to 9 Pm, customer also made 30 calls in night between interval [9 Pm to 9 Am] and distribution of those 30 calls are as follows:\n",
    "![image.png](attachment:image.png)\n",
    "## Now propose a manpower plan required during each time bucket in a day. Maximum Abandon rate assumption would be same 10%"
   ]
  },
  {
   "cell_type": "code",
   "execution_count": 33,
   "metadata": {},
   "outputs": [
    {
     "name": "stdout",
     "output_type": "stream",
     "text": [
      "Total number of calls:  117988\n",
      "Total number of answered and transferred calls:  83585\n",
      "\n",
      "Average number of calls per day:  5130\n",
      "Average number of answered and transferred calls per day:  3634\n",
      "Average number of calls from 9 PM to 9 AM per day:  1539\n",
      "The target number of calls that need to attend from 9 PM to 9 AM per day:  1385\n"
     ]
    }
   ],
   "source": [
    "print('Total number of calls: ',len(data)) # Total number of calls in the dataset\n",
    "ans_tnf = data[(data['Call_Status']=='answered') | (data['Call_Status']=='transfer')] # Not abandoned calls\n",
    "print('Total number of answered and transferred calls: ',len(ans_tnf)) # Number of not abandoned calls in the dataset\n",
    "\n",
    "print('')\n",
    "\n",
    "print('Average number of calls per day: ',round(len(data)/23)) # Total calls / number of days (23)\n",
    "print('Average number of answered and transferred calls per day: ',round(len(ans_tnf)/23)) # Not abandoned calls / 23\n",
    "print('Average number of calls from 9 PM to 9 AM per day: ',round(.3*len(data)/23)) # 30% of per-day calls\n",
    "#90% of night incoming calls\n",
    "print('The target number of calls that need to attend from 9 PM to 9 AM per day: ',round(0.9*0.3*len(data)/23)) "
   ]
  },
  {
   "cell_type": "markdown",
   "metadata": {},
   "source": [
    "#### <u>Explanation:"
   ]
  },
  {
   "cell_type": "markdown",
   "metadata": {},
   "source": [
    "-\tTotal number of calls:  117988\n",
    "-\tTotal number of answered and transferred calls:  83585\n",
    "-\tThe average number of calls per day = Total number of calls / 23 = 117988/23 = 5130\n",
    "-\tThe average number of answered and transferred calls per day = Total number of answered and transferred calls / 23 = 83585/23 = 3634\n",
    "-\tThe average number of incoming calls per day from 9 PM to 9 AM = 30 % of per day incoming calls from 9 AM to 9 PM = 5130 * 0.30 = 1539\n",
    "-\tThe target number of calls that need to attend from 9 PM to 9 AM per day = 90% of  the average   of incoming calls per day from 9 PM to 9 AM = 1539 * 0.90 = 1385\n"
   ]
  },
  {
   "cell_type": "code",
   "execution_count": 34,
   "metadata": {},
   "outputs": [
    {
     "name": "stdout",
     "output_type": "stream",
     "text": [
      "3634 calls are answered by 48 agents,\n",
      "Then, 1385 calls can be answered by ( 18 + 1 ) agents.\n"
     ]
    }
   ],
   "source": [
    "print('3634 calls are answered by 48 agents,\\nThen, 1385 calls can be answered by (',round((48/3634)*1385),'+ 1 ) agents.')"
   ]
  },
  {
   "cell_type": "markdown",
   "metadata": {},
   "source": [
    "##### Note:\n",
    "“+ 1” is given, because the answer would give a fraction value, the number of agents can't be a    fraction, that’s why first I rounded the answer, then added 1.\n",
    "\n"
   ]
  },
  {
   "cell_type": "code",
   "execution_count": 35,
   "metadata": {},
   "outputs": [
    {
     "data": {
      "text/html": [
       "<div>\n",
       "<style scoped>\n",
       "    .dataframe tbody tr th:only-of-type {\n",
       "        vertical-align: middle;\n",
       "    }\n",
       "\n",
       "    .dataframe tbody tr th {\n",
       "        vertical-align: top;\n",
       "    }\n",
       "\n",
       "    .dataframe thead th {\n",
       "        text-align: right;\n",
       "    }\n",
       "</style>\n",
       "<table border=\"1\" class=\"dataframe\">\n",
       "  <thead>\n",
       "    <tr style=\"text-align: right;\">\n",
       "      <th></th>\n",
       "      <th>Night Time Bucket</th>\n",
       "      <th>Call count</th>\n",
       "      <th>Call count %</th>\n",
       "      <th>Agent Required</th>\n",
       "    </tr>\n",
       "  </thead>\n",
       "  <tbody>\n",
       "    <tr>\n",
       "      <th>0</th>\n",
       "      <td>9pm - 10pm</td>\n",
       "      <td>3</td>\n",
       "      <td>10.00</td>\n",
       "      <td>2.0</td>\n",
       "    </tr>\n",
       "    <tr>\n",
       "      <th>1</th>\n",
       "      <td>10pm - 11pm</td>\n",
       "      <td>3</td>\n",
       "      <td>10.00</td>\n",
       "      <td>2.0</td>\n",
       "    </tr>\n",
       "    <tr>\n",
       "      <th>2</th>\n",
       "      <td>11pm - 12am</td>\n",
       "      <td>2</td>\n",
       "      <td>6.67</td>\n",
       "      <td>1.0</td>\n",
       "    </tr>\n",
       "    <tr>\n",
       "      <th>3</th>\n",
       "      <td>12am - 1am</td>\n",
       "      <td>2</td>\n",
       "      <td>6.67</td>\n",
       "      <td>1.0</td>\n",
       "    </tr>\n",
       "    <tr>\n",
       "      <th>4</th>\n",
       "      <td>1am - 2am</td>\n",
       "      <td>1</td>\n",
       "      <td>3.33</td>\n",
       "      <td>1.0</td>\n",
       "    </tr>\n",
       "    <tr>\n",
       "      <th>5</th>\n",
       "      <td>2am - 3am</td>\n",
       "      <td>1</td>\n",
       "      <td>3.33</td>\n",
       "      <td>1.0</td>\n",
       "    </tr>\n",
       "    <tr>\n",
       "      <th>6</th>\n",
       "      <td>3am - 4am</td>\n",
       "      <td>1</td>\n",
       "      <td>3.33</td>\n",
       "      <td>1.0</td>\n",
       "    </tr>\n",
       "    <tr>\n",
       "      <th>7</th>\n",
       "      <td>4am - 5am</td>\n",
       "      <td>1</td>\n",
       "      <td>3.33</td>\n",
       "      <td>1.0</td>\n",
       "    </tr>\n",
       "    <tr>\n",
       "      <th>8</th>\n",
       "      <td>5am - 6am</td>\n",
       "      <td>3</td>\n",
       "      <td>10.00</td>\n",
       "      <td>2.0</td>\n",
       "    </tr>\n",
       "    <tr>\n",
       "      <th>9</th>\n",
       "      <td>6am - 7am</td>\n",
       "      <td>4</td>\n",
       "      <td>13.33</td>\n",
       "      <td>2.0</td>\n",
       "    </tr>\n",
       "    <tr>\n",
       "      <th>10</th>\n",
       "      <td>7am - 8am</td>\n",
       "      <td>4</td>\n",
       "      <td>13.33</td>\n",
       "      <td>2.0</td>\n",
       "    </tr>\n",
       "    <tr>\n",
       "      <th>11</th>\n",
       "      <td>8am - 9am</td>\n",
       "      <td>5</td>\n",
       "      <td>16.67</td>\n",
       "      <td>3.0</td>\n",
       "    </tr>\n",
       "  </tbody>\n",
       "</table>\n",
       "</div>"
      ],
      "text/plain": [
       "   Night Time Bucket  Call count  Call count %  Agent Required\n",
       "0         9pm - 10pm           3         10.00             2.0\n",
       "1        10pm - 11pm           3         10.00             2.0\n",
       "2        11pm - 12am           2          6.67             1.0\n",
       "3         12am - 1am           2          6.67             1.0\n",
       "4          1am - 2am           1          3.33             1.0\n",
       "5          2am - 3am           1          3.33             1.0\n",
       "6          3am - 4am           1          3.33             1.0\n",
       "7          4am - 5am           1          3.33             1.0\n",
       "8          5am - 6am           3         10.00             2.0\n",
       "9          6am - 7am           4         13.33             2.0\n",
       "10         7am - 8am           4         13.33             2.0\n",
       "11         8am - 9am           5         16.67             3.0"
      ]
     },
     "execution_count": 35,
     "metadata": {},
     "output_type": "execute_result"
    }
   ],
   "source": [
    "night = pd.DataFrame()\n",
    "nn=['9pm - 10pm','10pm - 11pm','11pm - 12am', '12am - 1am','1am - 2am','2am - 3am','3am - 4am','4am - 5am','5am - 6am','6am - 7am','7am - 8am','8am - 9am']\n",
    "night['Night Time Bucket'] = pd.DataFrame(nn)\n",
    "night['Call count'] = pd.DataFrame([3,3,2,2,1,1,1,1,3,4,4,5])\n",
    "night['Call count %'] = round(100*night['Call count']/night['Call count'].sum(),2)\n",
    "night['Agent Required'] = round((night['Call count %']*18)/100)\n",
    "night"
   ]
  },
  {
   "cell_type": "code",
   "execution_count": 36,
   "metadata": {},
   "outputs": [
    {
     "data": {
      "text/plain": [
       "19.0"
      ]
     },
     "execution_count": 36,
     "metadata": {},
     "output_type": "execute_result"
    }
   ],
   "source": [
    "night['Agent Required'].sum()"
   ]
  },
  {
   "cell_type": "markdown",
   "metadata": {},
   "source": [
    "#### Extra:"
   ]
  },
  {
   "cell_type": "code",
   "execution_count": 37,
   "metadata": {},
   "outputs": [
    {
     "data": {
      "text/plain": [
       "25.850340136054424"
      ]
     },
     "execution_count": 37,
     "metadata": {},
     "output_type": "execute_result"
    }
   ],
   "source": [
    "(19/73.5)*100"
   ]
  },
  {
   "cell_type": "code",
   "execution_count": 38,
   "metadata": {},
   "outputs": [
    {
     "data": {
      "text/plain": [
       "26"
      ]
     },
     "execution_count": 38,
     "metadata": {},
     "output_type": "execute_result"
    }
   ],
   "source": [
    "round((19/73.5)*100)"
   ]
  },
  {
   "cell_type": "markdown",
   "metadata": {},
   "source": [
    " "
   ]
  },
  {
   "cell_type": "markdown",
   "metadata": {},
   "source": [
    " "
   ]
  },
  {
   "cell_type": "markdown",
   "metadata": {},
   "source": [
    " "
   ]
  }
 ],
 "metadata": {
  "kernelspec": {
   "display_name": "Python 3",
   "language": "python",
   "name": "python3"
  },
  "language_info": {
   "codemirror_mode": {
    "name": "ipython",
    "version": 3
   },
   "file_extension": ".py",
   "mimetype": "text/x-python",
   "name": "python",
   "nbconvert_exporter": "python",
   "pygments_lexer": "ipython3",
   "version": "3.7.6"
  }
 },
 "nbformat": 4,
 "nbformat_minor": 4
}
